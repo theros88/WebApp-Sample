{
 "cells": [
  {
   "cell_type": "markdown",
   "id": "018ffa2c",
   "metadata": {},
   "source": [
    "## A bear classifier\n",
    "Please upload your photo and hit the \"Classify\" button.\n",
    "It should work!"
   ]
  },
  {
   "cell_type": "code",
   "execution_count": 1,
   "id": "a1c2ae86",
   "metadata": {},
   "outputs": [
    {
     "name": "stdout",
     "output_type": "stream",
     "text": [
      "Collecting voila\n",
      "  Downloading voila-0.3.5-py3-none-any.whl (1.7 MB)\n",
      "\u001b[K     |████████████████████████████████| 1.7 MB 3.1 MB/s eta 0:00:01\n",
      "\u001b[?25hCollecting websockets>=9.0\n",
      "  Using cached websockets-10.3-cp37-cp37m-manylinux_2_5_x86_64.manylinux1_x86_64.manylinux_2_12_x86_64.manylinux2010_x86_64.whl (112 kB)\n",
      "Requirement already satisfied: traitlets<6,>=5.0.3 in /home/tt/anaconda3/envs/tensor/lib/python3.7/site-packages (from voila) (5.1.1)\n",
      "Collecting jupyterlab-server<3,>=2.3.0\n",
      "  Downloading jupyterlab_server-2.13.0-py3-none-any.whl (53 kB)\n",
      "\u001b[K     |████████████████████████████████| 53 kB 861 kB/s eta 0:00:01\n",
      "\u001b[?25hCollecting nbclient<0.6,>=0.4.0\n",
      "  Downloading nbclient-0.5.13-py3-none-any.whl (70 kB)\n",
      "\u001b[K     |████████████████████████████████| 70 kB 912 kB/s eta 0:00:01\n",
      "\u001b[?25hRequirement already satisfied: jupyter-client<8,>=6.1.3 in /home/tt/anaconda3/envs/tensor/lib/python3.7/site-packages (from voila) (7.3.0)\n",
      "Collecting jupyter-server<2.0.0,>=0.3.0\n",
      "  Downloading jupyter_server-1.17.0-py3-none-any.whl (342 kB)\n",
      "\u001b[K     |████████████████████████████████| 342 kB 853 kB/s eta 0:00:01\n",
      "\u001b[?25hRequirement already satisfied: nbconvert<7,>=6.4.5 in /home/tt/anaconda3/envs/tensor/lib/python3.7/site-packages (from voila) (6.5.0)\n",
      "Requirement already satisfied: jupyter-core>=4.9.2 in /home/tt/anaconda3/envs/tensor/lib/python3.7/site-packages (from jupyter-client<8,>=6.1.3->voila) (4.9.2)\n",
      "Requirement already satisfied: python-dateutil>=2.8.2 in /home/tt/anaconda3/envs/tensor/lib/python3.7/site-packages (from jupyter-client<8,>=6.1.3->voila) (2.8.2)\n",
      "Requirement already satisfied: nest-asyncio>=1.5.4 in /home/tt/anaconda3/envs/tensor/lib/python3.7/site-packages (from jupyter-client<8,>=6.1.3->voila) (1.5.5)\n",
      "Requirement already satisfied: tornado>=6.0 in /home/tt/anaconda3/envs/tensor/lib/python3.7/site-packages (from jupyter-client<8,>=6.1.3->voila) (6.1)\n",
      "Requirement already satisfied: pyzmq>=22.3 in /home/tt/anaconda3/envs/tensor/lib/python3.7/site-packages (from jupyter-client<8,>=6.1.3->voila) (22.3.0)\n",
      "Requirement already satisfied: entrypoints in /home/tt/anaconda3/envs/tensor/lib/python3.7/site-packages (from jupyter-client<8,>=6.1.3->voila) (0.4)\n",
      "Collecting anyio<4,>=3.1.0\n",
      "  Downloading anyio-3.6.1-py3-none-any.whl (80 kB)\n",
      "\u001b[K     |████████████████████████████████| 80 kB 903 kB/s eta 0:00:01\n",
      "\u001b[?25hRequirement already satisfied: terminado>=0.8.3 in /home/tt/anaconda3/envs/tensor/lib/python3.7/site-packages (from jupyter-server<2.0.0,>=0.3.0->voila) (0.13.3)\n",
      "Requirement already satisfied: packaging in /home/tt/anaconda3/envs/tensor/lib/python3.7/site-packages (from jupyter-server<2.0.0,>=0.3.0->voila) (21.3)\n",
      "Requirement already satisfied: argon2-cffi in /home/tt/anaconda3/envs/tensor/lib/python3.7/site-packages (from jupyter-server<2.0.0,>=0.3.0->voila) (21.3.0)\n",
      "Requirement already satisfied: Send2Trash in /home/tt/anaconda3/envs/tensor/lib/python3.7/site-packages (from jupyter-server<2.0.0,>=0.3.0->voila) (1.8.0)\n",
      "Requirement already satisfied: nbformat>=5.2.0 in /home/tt/anaconda3/envs/tensor/lib/python3.7/site-packages (from jupyter-server<2.0.0,>=0.3.0->voila) (5.4.0)\n",
      "Requirement already satisfied: prometheus-client in /home/tt/anaconda3/envs/tensor/lib/python3.7/site-packages (from jupyter-server<2.0.0,>=0.3.0->voila) (0.14.1)\n",
      "Collecting websocket-client\n",
      "  Using cached websocket_client-1.3.2-py3-none-any.whl (54 kB)\n",
      "Requirement already satisfied: jinja2 in /home/tt/anaconda3/envs/tensor/lib/python3.7/site-packages (from jupyter-server<2.0.0,>=0.3.0->voila) (3.1.2)\n",
      "Requirement already satisfied: typing-extensions in /home/tt/anaconda3/envs/tensor/lib/python3.7/site-packages (from anyio<4,>=3.1.0->jupyter-server<2.0.0,>=0.3.0->voila) (3.7.4.3)\n",
      "Requirement already satisfied: idna>=2.8 in /home/tt/anaconda3/envs/tensor/lib/python3.7/site-packages (from anyio<4,>=3.1.0->jupyter-server<2.0.0,>=0.3.0->voila) (3.3)\n",
      "Collecting sniffio>=1.1\n",
      "  Downloading sniffio-1.2.0-py3-none-any.whl (10 kB)\n",
      "Requirement already satisfied: requests in /home/tt/anaconda3/envs/tensor/lib/python3.7/site-packages (from jupyterlab-server<3,>=2.3.0->voila) (2.27.1)\n",
      "Collecting babel\n",
      "  Downloading Babel-2.10.1-py3-none-any.whl (9.5 MB)\n",
      "\u001b[K     |████████████████████████████████| 9.5 MB 850 kB/s eta 0:00:01\n",
      "\u001b[?25hRequirement already satisfied: jsonschema>=3.0.1 in /home/tt/anaconda3/envs/tensor/lib/python3.7/site-packages (from jupyterlab-server<3,>=2.3.0->voila) (4.5.1)\n",
      "Collecting json5\n",
      "  Downloading json5-0.9.8.tar.gz (22 kB)\n",
      "Requirement already satisfied: importlib-metadata>=3.6 in /home/tt/anaconda3/envs/tensor/lib/python3.7/site-packages (from jupyterlab-server<3,>=2.3.0->voila) (4.11.3)\n",
      "Requirement already satisfied: zipp>=0.5 in /home/tt/anaconda3/envs/tensor/lib/python3.7/site-packages (from importlib-metadata>=3.6->jupyterlab-server<3,>=2.3.0->voila) (3.8.0)\n",
      "Requirement already satisfied: MarkupSafe>=2.0 in /home/tt/anaconda3/envs/tensor/lib/python3.7/site-packages (from jinja2->jupyter-server<2.0.0,>=0.3.0->voila) (2.1.1)\n",
      "Requirement already satisfied: importlib-resources>=1.4.0 in /home/tt/anaconda3/envs/tensor/lib/python3.7/site-packages (from jsonschema>=3.0.1->jupyterlab-server<3,>=2.3.0->voila) (5.7.1)\n",
      "Requirement already satisfied: attrs>=17.4.0 in /home/tt/anaconda3/envs/tensor/lib/python3.7/site-packages (from jsonschema>=3.0.1->jupyterlab-server<3,>=2.3.0->voila) (21.4.0)\n",
      "Requirement already satisfied: pyrsistent!=0.17.0,!=0.17.1,!=0.17.2,>=0.14.0 in /home/tt/anaconda3/envs/tensor/lib/python3.7/site-packages (from jsonschema>=3.0.1->jupyterlab-server<3,>=2.3.0->voila) (0.18.1)\n",
      "Requirement already satisfied: mistune<2,>=0.8.1 in /home/tt/anaconda3/envs/tensor/lib/python3.7/site-packages (from nbconvert<7,>=6.4.5->voila) (0.8.4)\n",
      "Requirement already satisfied: defusedxml in /home/tt/anaconda3/envs/tensor/lib/python3.7/site-packages (from nbconvert<7,>=6.4.5->voila) (0.7.1)\n",
      "Requirement already satisfied: tinycss2 in /home/tt/anaconda3/envs/tensor/lib/python3.7/site-packages (from nbconvert<7,>=6.4.5->voila) (1.1.1)\n",
      "Requirement already satisfied: bleach in /home/tt/anaconda3/envs/tensor/lib/python3.7/site-packages (from nbconvert<7,>=6.4.5->voila) (5.0.0)\n",
      "Requirement already satisfied: jupyterlab-pygments in /home/tt/anaconda3/envs/tensor/lib/python3.7/site-packages (from nbconvert<7,>=6.4.5->voila) (0.2.2)\n",
      "Requirement already satisfied: pygments>=2.4.1 in /home/tt/anaconda3/envs/tensor/lib/python3.7/site-packages (from nbconvert<7,>=6.4.5->voila) (2.12.0)\n",
      "Requirement already satisfied: pandocfilters>=1.4.1 in /home/tt/anaconda3/envs/tensor/lib/python3.7/site-packages (from nbconvert<7,>=6.4.5->voila) (1.5.0)\n",
      "Requirement already satisfied: beautifulsoup4 in /home/tt/anaconda3/envs/tensor/lib/python3.7/site-packages (from nbconvert<7,>=6.4.5->voila) (4.11.1)\n",
      "Requirement already satisfied: fastjsonschema in /home/tt/anaconda3/envs/tensor/lib/python3.7/site-packages (from nbformat>=5.2.0->jupyter-server<2.0.0,>=0.3.0->voila) (2.15.3)\n",
      "Requirement already satisfied: six>=1.5 in /home/tt/anaconda3/envs/tensor/lib/python3.7/site-packages (from python-dateutil>=2.8.2->jupyter-client<8,>=6.1.3->voila) (1.15.0)\n",
      "Requirement already satisfied: ptyprocess in /home/tt/anaconda3/envs/tensor/lib/python3.7/site-packages (from terminado>=0.8.3->jupyter-server<2.0.0,>=0.3.0->voila) (0.7.0)\n",
      "Requirement already satisfied: argon2-cffi-bindings in /home/tt/anaconda3/envs/tensor/lib/python3.7/site-packages (from argon2-cffi->jupyter-server<2.0.0,>=0.3.0->voila) (21.2.0)\n",
      "Requirement already satisfied: cffi>=1.0.1 in /home/tt/anaconda3/envs/tensor/lib/python3.7/site-packages (from argon2-cffi-bindings->argon2-cffi->jupyter-server<2.0.0,>=0.3.0->voila) (1.15.0)\n",
      "Requirement already satisfied: pycparser in /home/tt/anaconda3/envs/tensor/lib/python3.7/site-packages (from cffi>=1.0.1->argon2-cffi-bindings->argon2-cffi->jupyter-server<2.0.0,>=0.3.0->voila) (2.21)\n",
      "Requirement already satisfied: pytz>=2015.7 in /home/tt/anaconda3/envs/tensor/lib/python3.7/site-packages (from babel->jupyterlab-server<3,>=2.3.0->voila) (2022.1)\n",
      "Requirement already satisfied: soupsieve>1.2 in /home/tt/anaconda3/envs/tensor/lib/python3.7/site-packages (from beautifulsoup4->nbconvert<7,>=6.4.5->voila) (2.3.1)\n",
      "Requirement already satisfied: webencodings in /home/tt/anaconda3/envs/tensor/lib/python3.7/site-packages (from bleach->nbconvert<7,>=6.4.5->voila) (0.5.1)\n"
     ]
    },
    {
     "name": "stdout",
     "output_type": "stream",
     "text": [
      "Requirement already satisfied: pyparsing!=3.0.5,>=2.0.2 in /home/tt/anaconda3/envs/tensor/lib/python3.7/site-packages (from packaging->jupyter-server<2.0.0,>=0.3.0->voila) (3.0.8)\n",
      "Requirement already satisfied: certifi>=2017.4.17 in /home/tt/anaconda3/envs/tensor/lib/python3.7/site-packages (from requests->jupyterlab-server<3,>=2.3.0->voila) (2021.10.8)\n",
      "Requirement already satisfied: urllib3<1.27,>=1.21.1 in /home/tt/anaconda3/envs/tensor/lib/python3.7/site-packages (from requests->jupyterlab-server<3,>=2.3.0->voila) (1.26.9)\n",
      "Requirement already satisfied: charset-normalizer~=2.0.0 in /home/tt/anaconda3/envs/tensor/lib/python3.7/site-packages (from requests->jupyterlab-server<3,>=2.3.0->voila) (2.0.12)\n",
      "Building wheels for collected packages: json5\n",
      "  Building wheel for json5 (setup.py) ... \u001b[?25ldone\n",
      "\u001b[?25h  Created wheel for json5: filename=json5-0.9.8-py2.py3-none-any.whl size=18604 sha256=92769dd3b6fd26d6aeeaa3e87c8105e03efae568ff5b138f75f35c28a1871650\n",
      "  Stored in directory: /home/tt/.cache/pip/wheels/ac/9b/de/6e4fd8f159d3dfa42c42ceddf2184fda29ea7fb1e8f5f8371c\n",
      "Successfully built json5\n",
      "Installing collected packages: sniffio, nbclient, websocket-client, anyio, jupyter-server, json5, babel, websockets, jupyterlab-server, voila\n",
      "  Attempting uninstall: nbclient\n",
      "    Found existing installation: nbclient 0.6.3\n",
      "    Uninstalling nbclient-0.6.3:\n",
      "      Successfully uninstalled nbclient-0.6.3\n",
      "Successfully installed anyio-3.6.1 babel-2.10.1 json5-0.9.8 jupyter-server-1.17.0 jupyterlab-server-2.13.0 nbclient-0.5.13 sniffio-1.2.0 voila-0.3.5 websocket-client-1.3.2 websockets-10.3\n",
      "Enabling: voila\n",
      "- Writing config: /home/tt/anaconda3/envs/tensor/etc/jupyter\n",
      "    - Validating...\n",
      "      voila 0.3.5 \u001b[32mOK\u001b[0m\n"
     ]
    }
   ],
   "source": [
    "# !pip install voila\n",
    "# !jupyter serverextension enable --sys-prefix voila"
   ]
  },
  {
   "cell_type": "code",
   "execution_count": 2,
   "id": "68e64226",
   "metadata": {},
   "outputs": [],
   "source": [
    "# import fastbook\n",
    "# fastbook.setup_book()"
   ]
  },
  {
   "cell_type": "code",
   "execution_count": 1,
   "id": "d4b7a987",
   "metadata": {},
   "outputs": [],
   "source": [
    "# from fastbook import *\n",
    "from fastai.vision.all import *\n",
    "from fastai.vision.widgets import *"
   ]
  },
  {
   "cell_type": "code",
   "execution_count": 2,
   "id": "9b3f363f",
   "metadata": {},
   "outputs": [
    {
     "data": {
      "text/plain": [
       "(#1) [Path('export.pkl')]"
      ]
     },
     "execution_count": 2,
     "metadata": {},
     "output_type": "execute_result"
    }
   ],
   "source": [
    "path = Path()\n",
    "path.ls(file_exts='.pkl')"
   ]
  },
  {
   "cell_type": "code",
   "execution_count": 3,
   "id": "f80d8836",
   "metadata": {},
   "outputs": [],
   "source": [
    "learn_inf = load_learner(path/'export.pkl', cpu=True)"
   ]
  },
  {
   "cell_type": "code",
   "execution_count": 4,
   "id": "50d9dd1a",
   "metadata": {},
   "outputs": [
    {
     "data": {
      "application/vnd.jupyter.widget-view+json": {
       "model_id": "2d74a816d6554608b614e7904d2ee266",
       "version_major": 2,
       "version_minor": 0
      },
      "text/plain": [
       "VBox(children=(Label(value='Select your bear!'), FileUpload(value={}, description='Upload'), Button(descriptio…"
      ]
     },
     "metadata": {},
     "output_type": "display_data"
    },
    {
     "data": {
      "text/html": [
       "\n",
       "<style>\n",
       "    /* Turns off some styling */\n",
       "    progress {\n",
       "        /* gets rid of default border in Firefox and Opera. */\n",
       "        border: none;\n",
       "        /* Needs to be in here for Safari polyfill so background images work as expected. */\n",
       "        background-size: auto;\n",
       "    }\n",
       "    .progress-bar-interrupted, .progress-bar-interrupted::-webkit-progress-bar {\n",
       "        background: #F44336;\n",
       "    }\n",
       "</style>\n"
      ],
      "text/plain": [
       "<IPython.core.display.HTML object>"
      ]
     },
     "metadata": {},
     "output_type": "display_data"
    },
    {
     "data": {
      "text/html": [],
      "text/plain": [
       "<IPython.core.display.HTML object>"
      ]
     },
     "metadata": {},
     "output_type": "display_data"
    }
   ],
   "source": [
    "btn_upload = widgets.FileUpload()\n",
    "out_pl = widgets.Output()\n",
    "lbl_pred = widgets.Label()\n",
    "btn_run = widgets.Button(description='Classify')\n",
    "\n",
    "def on_click_classify(change):\n",
    "    img = PILImage.create(btn_upload.data[-1])\n",
    "    out_pl.clear_output()\n",
    "    with out_pl: display(img.to_thumb(128,128))\n",
    "    pred,pred_idx,probs = learn_inf.predict(img)\n",
    "    lbl_pred.value = f'Prediction: {pred}; Probability: {probs[pred_idx]:.04f}'\n",
    "\n",
    "btn_run.on_click(on_click_classify)\n",
    "\n",
    "display(VBox([widgets.Label('Select your bear!'), \n",
    "              btn_upload, btn_run, out_pl, lbl_pred]))"
   ]
  },
  {
   "cell_type": "code",
   "execution_count": null,
   "id": "b69fcd96",
   "metadata": {},
   "outputs": [],
   "source": []
  }
 ],
 "metadata": {
  "kernelspec": {
   "display_name": "tensor",
   "language": "python",
   "name": "tensor"
  },
  "language_info": {
   "codemirror_mode": {
    "name": "ipython",
    "version": 3
   },
   "file_extension": ".py",
   "mimetype": "text/x-python",
   "name": "python",
   "nbconvert_exporter": "python",
   "pygments_lexer": "ipython3",
   "version": "3.7.9"
  }
 },
 "nbformat": 4,
 "nbformat_minor": 5
}
